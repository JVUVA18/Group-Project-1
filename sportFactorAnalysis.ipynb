{
 "cells": [
  {
   "cell_type": "markdown",
   "id": "916789fb",
   "metadata": {},
   "source": [
    "# Sporting Franchise Success Factor Analysis"
   ]
  },
  {
   "cell_type": "code",
   "execution_count": 1,
   "id": "31377ae9",
   "metadata": {},
   "outputs": [],
   "source": [
    "import csv\n",
    "import pandas as pd\n",
    "import string"
   ]
  },
  {
   "cell_type": "markdown",
   "id": "e520c81e",
   "metadata": {},
   "source": [
    "## Import, Clean and Organize Data"
   ]
  },
  {
   "cell_type": "code",
   "execution_count": 2,
   "id": "dff100e0",
   "metadata": {},
   "outputs": [],
   "source": [
    "file_path5 = 'Resources/NBA2016-2017.csv'\n",
    "file_path1 = 'Resources/NBA2017-2018.csv'\n",
    "file_path2 = 'Resources/NBA2018-2019.csv'\n",
    "file_path3 = 'Resources/NBA2019-2020.csv'\n",
    "file_path4 = 'Resources/NBA2020-2021.csv'\n",
    "\n",
    "\n",
    "\n",
    "df18 = pd.read_csv(file_path1)\n",
    "df19 = pd.read_csv(file_path2)\n",
    "df20 = pd.read_csv(file_path3)\n",
    "df21 = pd.read_csv(file_path4)\n",
    "df17 = pd.read_csv(file_path5)"
   ]
  },
  {
   "cell_type": "markdown",
   "id": "b002b96a",
   "metadata": {},
   "source": [
    "### Create a new column in the data to indicate whether team went to playoffs="
   ]
  },
  {
   "cell_type": "code",
   "execution_count": 3,
   "id": "fd443997",
   "metadata": {},
   "outputs": [],
   "source": [
    "# Create a new column 'Playoffs' and set all values to False\n",
    "df18['Playoffs'] = False\n",
    "\n",
    "# Use iloc to select the rows where a specific column contains an asterisk\n",
    "rows_with_asterisk = df18.loc[df18['Team'].str.contains('\\*')]\n",
    "\n",
    "# Set the values in the 'Playoffs' column to True for the selected rows\n",
    "df18.loc[rows_with_asterisk.index, 'Playoffs'] = True"
   ]
  },
  {
   "cell_type": "code",
   "execution_count": 4,
   "id": "b21fd7df",
   "metadata": {},
   "outputs": [],
   "source": [
    "# Create a new column 'Playoffs' and set all values to False\n",
    "df19['Playoffs'] = False\n",
    "\n",
    "# Use iloc to select the rows where a specific column contains an asterisk\n",
    "rows_with_asterisk = df19.loc[df19['Team'].str.contains('\\*')]\n",
    "\n",
    "# Set the values in the 'Playoffs' column to True for the selected rows\n",
    "df19.loc[rows_with_asterisk.index, 'Playoffs'] = True"
   ]
  },
  {
   "cell_type": "code",
   "execution_count": 5,
   "id": "f7a2c547",
   "metadata": {
    "scrolled": true
   },
   "outputs": [],
   "source": [
    "# Create a new column 'Playoffs' and set all values to False\n",
    "df20['Playoffs'] = False\n",
    "\n",
    "# Use iloc to select the rows where a specific column contains an asterisk\n",
    "rows_with_asterisk = df20.loc[df20['Team'].str.contains('\\*')]\n",
    "\n",
    "# Set the values in the 'Playoffs' column to True for the selected rows\n",
    "df20.loc[rows_with_asterisk.index, 'Playoffs'] = True"
   ]
  },
  {
   "cell_type": "code",
   "execution_count": 6,
   "id": "bab9498b",
   "metadata": {},
   "outputs": [],
   "source": [
    "# Create a new column 'Playoffs' and set all values to False\n",
    "df21['Playoffs'] = False\n",
    "\n",
    "# Use iloc to select the rows where a specific column contains an asterisk\n",
    "rows_with_asterisk = df21.loc[df21['Team'].str.contains('\\*')]\n",
    "\n",
    "# Set the values in the 'Playoffs' column to True for the selected rows\n",
    "df21.loc[rows_with_asterisk.index, 'Playoffs'] = True"
   ]
  },
  {
   "cell_type": "code",
   "execution_count": 7,
   "id": "ceb9e760",
   "metadata": {},
   "outputs": [],
   "source": [
    "# Create a new column 'Playoffs' and set all values to False\n",
    "df17['Playoffs'] = False\n",
    "\n",
    "# Use iloc to select the rows where a specific column contains an asterisk\n",
    "rows_with_asterisk = df17.loc[df17['Team'].str.contains('\\*')]\n",
    "\n",
    "# Set the values in the 'Playoffs' column to True for the selected rows\n",
    "df17.loc[rows_with_asterisk.index, 'Playoffs'] = True"
   ]
  },
  {
   "cell_type": "markdown",
   "id": "524a8d2f",
   "metadata": {},
   "source": [
    "### Remove asterisk from team names to prepare for merge"
   ]
  },
  {
   "cell_type": "code",
   "execution_count": 8,
   "id": "5de7c32f",
   "metadata": {},
   "outputs": [],
   "source": [
    "def remove_punctuation(input_string):\n",
    "    # Make a translation table to remove all punctuation characters\n",
    "    translator = str.maketrans('', '', string.punctuation)\n",
    "    \n",
    "    # Use translate method to remove all punctuation characters\n",
    "    no_punct = input_string.translate(translator)\n",
    "    \n",
    "    return no_punct"
   ]
  },
  {
   "cell_type": "code",
   "execution_count": 9,
   "id": "57d4204d",
   "metadata": {},
   "outputs": [],
   "source": [
    "cleaned_teams18 = []\n",
    "for i in df18['Team']:\n",
    "    cleaned_teams18.append(remove_punctuation(i))\n",
    "\n",
    "df18[\"Team\"] = cleaned_teams18"
   ]
  },
  {
   "cell_type": "code",
   "execution_count": 10,
   "id": "286edc80",
   "metadata": {
    "scrolled": true
   },
   "outputs": [],
   "source": [
    "cleaned_teams19 = []\n",
    "for i in df19['Team']:\n",
    "    cleaned_teams19.append(remove_punctuation(i))\n",
    "\n",
    "df19[\"Team\"] = cleaned_teams19"
   ]
  },
  {
   "cell_type": "code",
   "execution_count": 11,
   "id": "0cde38f9",
   "metadata": {},
   "outputs": [],
   "source": [
    "cleaned_teams20 = []\n",
    "for i in df20['Team']:\n",
    "    cleaned_teams20.append(remove_punctuation(i))\n",
    "\n",
    "df20[\"Team\"] = cleaned_teams20"
   ]
  },
  {
   "cell_type": "code",
   "execution_count": 12,
   "id": "ee259ce2",
   "metadata": {
    "scrolled": true
   },
   "outputs": [],
   "source": [
    "cleaned_teams21 = []\n",
    "for i in df21['Team']:\n",
    "    cleaned_teams21.append(remove_punctuation(i))\n",
    "\n",
    "df21[\"Team\"] = cleaned_teams21"
   ]
  },
  {
   "cell_type": "code",
   "execution_count": 13,
   "id": "5467c652",
   "metadata": {
    "scrolled": true
   },
   "outputs": [],
   "source": [
    "cleaned_teams17 = []\n",
    "for i in df17['Team']:\n",
    "    cleaned_teams17.append(remove_punctuation(i))\n",
    "\n",
    "df17[\"Team\"] = cleaned_teams17"
   ]
  },
  {
   "cell_type": "markdown",
   "id": "dddf4366",
   "metadata": {},
   "source": [
    "## Visiualize Trends in the Data"
   ]
  },
  {
   "cell_type": "code",
   "execution_count": null,
   "id": "6e4dad9f",
   "metadata": {},
   "outputs": [],
   "source": []
  },
  {
   "cell_type": "code",
   "execution_count": null,
   "id": "2b1a90f9",
   "metadata": {},
   "outputs": [],
   "source": []
  },
  {
   "cell_type": "markdown",
   "id": "f5332550",
   "metadata": {},
   "source": [
    "## Run Statistical Tests"
   ]
  },
  {
   "cell_type": "code",
   "execution_count": null,
   "id": "10b82b47",
   "metadata": {},
   "outputs": [],
   "source": []
  },
  {
   "cell_type": "code",
   "execution_count": null,
   "id": "46d9c468",
   "metadata": {},
   "outputs": [],
   "source": []
  },
  {
   "cell_type": "markdown",
   "id": "4585fe02",
   "metadata": {},
   "source": [
    "## State Conclusions"
   ]
  },
  {
   "cell_type": "code",
   "execution_count": null,
   "id": "03355518",
   "metadata": {},
   "outputs": [],
   "source": []
  },
  {
   "cell_type": "code",
   "execution_count": null,
   "id": "68d0565f",
   "metadata": {},
   "outputs": [],
   "source": []
  }
 ],
 "metadata": {
  "kernelspec": {
   "display_name": "PythonData",
   "language": "python",
   "name": "pythondata"
  },
  "language_info": {
   "codemirror_mode": {
    "name": "ipython",
    "version": 3
   },
   "file_extension": ".py",
   "mimetype": "text/x-python",
   "name": "python",
   "nbconvert_exporter": "python",
   "pygments_lexer": "ipython3",
   "version": "3.7.7"
  }
 },
 "nbformat": 4,
 "nbformat_minor": 5
}
