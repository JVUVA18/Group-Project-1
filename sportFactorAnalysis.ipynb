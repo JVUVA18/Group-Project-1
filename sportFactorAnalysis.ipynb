{
 "cells": [
  {
   "cell_type": "markdown",
   "id": "56c5ea2e",
   "metadata": {},
   "source": [
    "# Sporting Franchise Success Factor Analysis"
   ]
  },
  {
   "cell_type": "code",
   "execution_count": null,
   "id": "64dbb788",
   "metadata": {},
   "outputs": [],
   "source": []
  },
  {
   "cell_type": "markdown",
   "id": "03db94de",
   "metadata": {},
   "source": [
    "## Import, Clean and Organize Data"
   ]
  },
  {
   "cell_type": "code",
   "execution_count": null,
   "id": "3c7fddf6",
   "metadata": {},
   "outputs": [],
   "source": []
  },
  {
   "cell_type": "code",
   "execution_count": null,
   "id": "50a3a52d",
   "metadata": {},
   "outputs": [],
   "source": []
  },
  {
   "cell_type": "markdown",
   "id": "5fe7f914",
   "metadata": {},
   "source": [
    "## Visiualize Trends in the Data"
   ]
  },
  {
   "cell_type": "code",
   "execution_count": null,
   "id": "7defe778",
   "metadata": {},
   "outputs": [],
   "source": []
  },
  {
   "cell_type": "code",
   "execution_count": null,
   "id": "1d0f39c9",
   "metadata": {},
   "outputs": [],
   "source": []
  },
  {
   "cell_type": "markdown",
   "id": "07c2adde",
   "metadata": {},
   "source": [
    "## Run Statistical Tests"
   ]
  },
  {
   "cell_type": "code",
   "execution_count": null,
   "id": "52f708e7",
   "metadata": {},
   "outputs": [],
   "source": []
  },
  {
   "cell_type": "code",
   "execution_count": null,
   "id": "6a3f4505",
   "metadata": {},
   "outputs": [],
   "source": []
  },
  {
   "cell_type": "markdown",
   "id": "39dfc740",
   "metadata": {},
   "source": [
    "## State Conclusions"
   ]
  },
  {
   "cell_type": "code",
   "execution_count": null,
   "id": "3a183c5c",
   "metadata": {},
   "outputs": [],
   "source": []
  },
  {
   "cell_type": "code",
   "execution_count": null,
   "id": "dfcf9c17",
   "metadata": {},
   "outputs": [],
   "source": []
  }
 ],
 "metadata": {
  "kernelspec": {
   "display_name": "PythonData",
   "language": "python",
   "name": "pythondata"
  },
  "language_info": {
   "codemirror_mode": {
    "name": "ipython",
    "version": 3
   },
   "file_extension": ".py",
   "mimetype": "text/x-python",
   "name": "python",
   "nbconvert_exporter": "python",
   "pygments_lexer": "ipython3",
   "version": "3.7.7"
  }
 },
 "nbformat": 4,
 "nbformat_minor": 5
}
